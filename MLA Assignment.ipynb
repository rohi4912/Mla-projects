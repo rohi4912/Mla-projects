{
 "cells": [
  {
   "cell_type": "code",
   "execution_count": 1,
   "id": "2759f181",
   "metadata": {},
   "outputs": [
    {
     "name": "stdout",
     "output_type": "stream",
     "text": [
      "4.0\n"
     ]
    }
   ],
   "source": [
    "# Q1: What is the output of following expression 5 + 4 * 9 % (3 + 1) / 6 - 1\n",
    "\n",
    "exp =  5 + 4 * 9 % (3 + 1) / 6 - 1\n",
    "print(exp)"
   ]
  },
  {
   "cell_type": "code",
   "execution_count": 10,
   "id": "0a67ae85",
   "metadata": {},
   "outputs": [
    {
     "name": "stdout",
     "output_type": "stream",
     "text": [
      "Enter Number : 2\n",
      "Even\n"
     ]
    }
   ],
   "source": [
    "# Q2: Write a program to check if a Number is Odd or Even. Take number as a input from user at runtime.\n",
    "\n",
    "num = int(input(\"Enter Number : \"))\n",
    "if(num%2==0):\n",
    "    print(\"Even\")\n",
    "else:\n",
    "    print(\"odd\")"
   ]
  },
  {
   "cell_type": "code",
   "execution_count": 16,
   "id": "745c8d7b",
   "metadata": {},
   "outputs": [
    {
     "name": "stdout",
     "output_type": "stream",
     "text": [
      "Enter Number : 2\n",
      "2 x 0 = 0\n",
      "2 x 1 = 2\n",
      "2 x 2 = 4\n",
      "2 x 3 = 6\n",
      "2 x 4 = 8\n",
      "2 x 5 = 10\n",
      "2 x 6 = 12\n",
      "2 x 7 = 14\n",
      "2 x 8 = 16\n",
      "2 x 9 = 18\n"
     ]
    }
   ],
   "source": [
    "# Q3: Write a program to display the multiplication table by taking a number as input. [Hint : Use print statement inside of a loop]\n",
    "num = int(input(\"Enter Number : \"))\n",
    "for i in range(0, 10):\n",
    "    print(num, 'x', i, '=', num * i)\n"
   ]
  },
  {
   "cell_type": "code",
   "execution_count": 19,
   "id": "9ec5f086",
   "metadata": {},
   "outputs": [
    {
     "name": "stdout",
     "output_type": "stream",
     "text": [
      "2002,2009,2016,2023,2037,2044,2051,2058,2072,2079,2086,2093,2107,2114,2121,2128,2142,2149,2156,2163,2177,2184,2191,2198,2212,2219,2226,2233,2247,2254,2261,2268,2282,2289,2296,2303,2317,2324,2331,2338,2352,2359,2366,2373,2387,2394,2401,2408,2422,2429,2436,2443,2457,2464,2471,2478,2492,2499,2506,2513,2527,2534,2541,2548,2562,2569,2576,2583,2597,2604,2611,2618,2632,2639,2646,2653,2667,2674,2681,2688,2702,2709,2716,2723,2737,2744,2751,2758,2772,2779,2786,2793,2807,2814,2821,2828,2842,2849,2856,2863,2877,2884,2891,2898,2912,2919,2926,2933,2947,2954,2961,2968,2982,2989,2996,3003,3017,3024,3031,3038,3052,3059,3066,3073,3087,3094,3101,3108,3122,3129,3136,3143,3157,3164,3171,3178,3192,3199,"
     ]
    }
   ],
   "source": [
    "# Write a program which will find all numbers between 2000 and 3200 which are divisible by 7 but are not a multiple of 5. Note: The numbers obtained should be printed in a comma-separated sequence on a single line.\n",
    "\n",
    "for i in range(2000, 3200):\n",
    "    if(i%7==0 and i%5!=0):\n",
    "        print(i, end=',')"
   ]
  },
  {
   "cell_type": "code",
   "execution_count": 30,
   "id": "b99f96c0",
   "metadata": {},
   "outputs": [
    {
     "name": "stdout",
     "output_type": "stream",
     "text": [
      "{<class 'int'>: 5, <class 'str'>: 4, <class 'float'>: 1, <class 'bool'>: 1, <class 'NoneType'>: 1}\n"
     ]
    }
   ],
   "source": [
    "# Count the elements of each datatype inside the list and display in output [2, 3, 'Py', '10', 1, 'SQL', 5.5, True, 3, 'John', None, 7]\n",
    "\n",
    "import collections as c\n",
    "list = [2, 3, 'Py', '10', 1, 'SQL', 5.5, True, 3, 'John', None, 7]  \n",
    "c = c.Counter(type(x) for x in list)\n",
    "print(dict(c))"
   ]
  },
  {
   "cell_type": "code",
   "execution_count": 32,
   "id": "31273502",
   "metadata": {},
   "outputs": [
    {
     "name": "stdout",
     "output_type": "stream",
     "text": [
      "22.5\n"
     ]
    }
   ],
   "source": [
    "# Add all values from the list with numeric datatypes [2, 3, 'Py', '10', 1, 'SQL', 5.5, True, 3, 'John', None, 7]\n",
    "\n",
    "import collections as c\n",
    "list = [2, 3, 'Py', '10', 1, 'SQL', 5.5, True, 3, 'John', None, 7]\n",
    "ans = sum(filter(lambda i: isinstance(i,int),list))\n",
    "newans = ans + sum(filter(lambda j: isinstance(j,float),list))\n",
    "print(newans)"
   ]
  },
  {
   "cell_type": "code",
   "execution_count": 36,
   "id": "aded480d",
   "metadata": {},
   "outputs": [
    {
     "data": {
      "text/plain": [
       "'Py10SQLJohn'"
      ]
     },
     "execution_count": 36,
     "metadata": {},
     "output_type": "execute_result"
    }
   ],
   "source": [
    "# Q7: Concat all str datatypes with hyphen as a delimiter [2, 3, 'Py', '10', 1, 'SQL', 5.5, True, 3, 'John', None, 7]\n",
    "\n",
    "list = [2, 3, 'Py', '10', 1, 'SQL', 5.5, True, 3, 'John', None, 7]\n",
    "''.join(filter(lambda x: type(x)==str,list))"
   ]
  },
  {
   "cell_type": "code",
   "execution_count": 37,
   "id": "b2967857",
   "metadata": {},
   "outputs": [
    {
     "data": {
      "text/plain": [
       "{'sum of all numbers (exclude bool)': 21.5, 'count of all str': 4}"
      ]
     },
     "execution_count": 37,
     "metadata": {},
     "output_type": "execute_result"
    }
   ],
   "source": [
    "# Q8: Write a UDF that takes list as input and returns sum of all numbers (exclude bool) and count of all str [2, 3, 'Py', '10', 1, 'SQL', 5.5, True, 3, 'John', None, 7] Hint: ----- def my_func: # your code my_func(l1) # output --> {'Sum': xxx, 'Count_of_Strs': xxx}\n",
    "\n",
    "# Declaring list\n",
    "list1 = [2, 3, 'Py', '10', 1, 'SQL', 5.5, True, 3, 'John', None, 7]\n",
    "\n",
    "def my_func(l):\n",
    "    dict1 = {}\n",
    "     \n",
    "    dict1['sum of all numbers (exclude bool)'] = sum([float(i) for i in l if type(i)== int or type(i)== float])\n",
    "    dict1['count of all str'] = len([str(i) for i in l if type(i)== str])\n",
    "    return dict1\n",
    "\n",
    "my_func(list1)"
   ]
  },
  {
   "cell_type": "code",
   "execution_count": 40,
   "id": "1375c047",
   "metadata": {},
   "outputs": [
    {
     "name": "stdout",
     "output_type": "stream",
     "text": [
      "Using loops to get the answer : [5, 7, 97, 77, 23, 73, 61]\n",
      "list comprehensions : [5, 7, 97, 77, 23, 73, 61]\n"
     ]
    }
   ],
   "source": [
    "# Q9: Get only odd numbers from the following list and store the numbers in new list li = [5, 7, 22, 97, 54, 62, 77, 23, 73, 61] i. Use loops to get the answer ii. Use list comprehensions iii. Use lambda function with filter\n",
    "\n",
    "list = [5, 7, 22, 97, 54, 62, 77, 23, 73, 61]\n",
    "\n",
    "# i. Use loops to get the answer\n",
    "odd_list = []\n",
    "for x in list:\n",
    "    if x % 2 != 0:\n",
    "        odd_list.append(x)\n",
    "print('Using loops to get the answer :',odd_list)\n",
    "        \n",
    "# ii. Use list comprehensions\n",
    "\n",
    "odd_list = [x for x in li if x % 2 !=0]\n",
    "print('list comprehensions :',odd_list)"
   ]
  },
  {
   "cell_type": "code",
   "execution_count": 52,
   "id": "9294a1c3",
   "metadata": {},
   "outputs": [
    {
     "name": "stdout",
     "output_type": "stream",
     "text": [
      "Enter Number Of Elements: 2\n",
      "1\n",
      "2\n",
      "List is [1, 2]\n",
      "Sum is 3\n",
      "Length is 2\n",
      "Maximum Value is:  2\n",
      "Minimum numer is 1\n",
      "Mean is:  1.5\n"
     ]
    }
   ],
   "source": [
    "# Q10: Write a UDF to return the descriptives [sum, count, min, mean, max] for a list of n number of input numbers.\n",
    "\n",
    "import numpy as np\n",
    "\n",
    "list = []\n",
    "\n",
    "n = int(input(\"Enter Number Of Elements: \"))\n",
    "\n",
    "for i in range(0, n):\n",
    "    elem = int(input())\n",
    "    \n",
    "    list.append(elem)\n",
    "    \n",
    "print(\"List is\", list)\n",
    "\n",
    "\n",
    "# Calculate the descriptives\n",
    "total_sum = sum(list)\n",
    "print(\"Sum is\", total_sum)\n",
    "count = len(list)\n",
    "print(\"Length is\", count)\n",
    "minimum_value = min(list)\n",
    "maximum_value = max(list)\n",
    "print(\"Maximum Value is: \", maximum_value)\n",
    "print(\"Minimum numer is\", minimum_value)\n",
    "print(\"Mean is: \", np.mean(list))"
   ]
  },
  {
   "cell_type": "code",
   "execution_count": 53,
   "id": "11db3bce",
   "metadata": {},
   "outputs": [
    {
     "name": "stdout",
     "output_type": "stream",
     "text": [
      "Enter Name of Shape : circle\n",
      "Enter Radius of Retangle: 3\n",
      "Area of Circle is 28.259999999999998.\n"
     ]
    }
   ],
   "source": [
    "# Q11: Write an udf to calculate the area of different shapes Take shape and dimensions as arguments to udf as follows : 1. square which has side 2. rectangle which has length and width 3. circle which has radius The shape should be a positional\n",
    "# argument and it's dimensions are taken as kwargs Perform proper validation for the user inputs and then calculate area. E.g. if shape is square, ensure kwargs has \"side\" and if so, then you may return the area, else display appropriate error message\n",
    "# like \"Please enter 'side' for a square\"\n",
    "\n",
    "name_shape = input('Enter Name of Shape : ')\n",
    "\n",
    "def area_shape(name):\n",
    "    name = name.lower()\n",
    "    \n",
    "    if(name == 'square'):\n",
    "        s = int(input(\"Enter Length of Square: \"))\n",
    "        square = s * s\n",
    "        print(f'Area of Square is {square}.')\n",
    "    elif(name == 'retangle'):\n",
    "        l = int(input(\"Enter Length : \"))\n",
    "        b = int(input(\"Enter Bredth : \"))\n",
    "        area = l * b\n",
    "        print(f'Area of Retangle is {area}.')\n",
    "    elif(name == 'circle'):\n",
    "        r = int(input(\"Enter Radius of Circle: \"))\n",
    "        pie = 3.14\n",
    "        area = pie * r * r\n",
    "        print(f'Area of Circle is {area}.')\n",
    "        \n",
    "area_shape(name_shape)"
   ]
  },
  {
   "cell_type": "code",
   "execution_count": 4,
   "id": "c0016850",
   "metadata": {},
   "outputs": [
    {
     "data": {
      "text/plain": [
       "{'Matched': ['February', 'January', 'December', 'June'],\n",
       " 'Only in l1': ['May', 'September', 'March'],\n",
       " 'Only in l2': ['October', 'April']}"
      ]
     },
     "execution_count": 4,
     "metadata": {},
     "output_type": "execute_result"
    }
   ],
   "source": [
    "# Q12: Write a UDF to reconcile the values within two lists. l1 = ['January', 'February', 'March', 'May', 'June', 'September', 'December'] l2 = ['January', 'February', 'April', 'June', 'October', 'December'] Hint: ----- def func(l1, l2): your code here... Output:\n",
    "# {'Matched': ['January', 'February', 'June', 'December'], 'Only in l1': ['March', 'May', 'September'], 'Only in l2': ['April', 'October']}\n",
    "\n",
    "\n",
    "l1 = ['January', 'February', 'March', 'May', 'June', 'September', 'December']\n",
    "l2 = ['January', 'February', 'April', 'June', 'October', 'December']\n",
    "\n",
    "def func_of_reconcile(l1, l2):\n",
    "    x = set(l1)\n",
    "    y = set(l2)\n",
    "    result = {}\n",
    "    result['Matched'] = list(x.intersection(y))\n",
    "    result['Only in l1'] = list(x-y)\n",
    "    result['Only in l2'] = list(y-x)\n",
    "    return result\n",
    "func_of_reconcile(l1, l2)"
   ]
  },
  {
   "cell_type": "code",
   "execution_count": 23,
   "id": "ecf32afd",
   "metadata": {},
   "outputs": [
    {
     "name": "stdout",
     "output_type": "stream",
     "text": [
      "Enter number: 57\n",
      "57 is not a prime number\n"
     ]
    }
   ],
   "source": [
    "# Q13: write a UDF to check if a number is prime or not.\n",
    "\n",
    "def test_num(x):\n",
    "    num = int(input(\"Enter number: \"))\n",
    "\n",
    "    flag = False\n",
    "\n",
    "    if num == 1:\n",
    "        print(num, \"is not a prime number\")\n",
    "    elif num > 1:\n",
    "        for i in range(2, (num-1)):\n",
    "            if (num % i) == 0:\n",
    "                flag = True\n",
    "                break\n",
    "\n",
    "        if flag:\n",
    "            print(num, \"is not a prime number\")\n",
    "        else:\n",
    "            print(num, \"is a prime number\")\n",
    "            \n",
    "test_num(num)"
   ]
  },
  {
   "cell_type": "code",
   "execution_count": 24,
   "id": "92808d9b",
   "metadata": {},
   "outputs": [
    {
     "name": "stdout",
     "output_type": "stream",
     "text": [
      "Enter a number : 5\n",
      "Factorial of 5 is 120\n"
     ]
    }
   ],
   "source": [
    "# Q14. Write a program which can compute the factorial of a given numbers. # The results should be printed in a comma-separated sequence on a single line. # input() function can be used for getting user(console) input #Suppose the input is supplied to\n",
    "# the program: 8 #Then, the output should be: 40320 #Hints: In case of input data being supplied to the question, it should be assumed to be a console input.\n",
    "\n",
    "num = int(input('Enter a number : '))\n",
    "fact = 1\n",
    "if num < 0:\n",
    "    print('factorial does not exist for negative numbers')\n",
    "elif num == 0:\n",
    "   print('The factorial of 0 is 1')\n",
    "else:\n",
    "    for i in range(1, num + 1):\n",
    "        fact = fact * i\n",
    "    print('Factorial of',num ,'is',fact)"
   ]
  },
  {
   "cell_type": "code",
   "execution_count": 28,
   "id": "b5256b58",
   "metadata": {},
   "outputs": [
    {
     "name": "stdout",
     "output_type": "stream",
     "text": [
      "Enter a number : 5\n",
      "{1: 1, 2: 4, 3: 9, 4: 16, 5: 25}\n"
     ]
    }
   ],
   "source": [
    "# Q15. With a given integral number n, write a program to generate a dictionary that contains (i, i*i) such that is an integral number between 1 and n (both included). and then the program should print the dictionary. #Suppose the following input is supplied\n",
    "# to the program: 8 #Then, the output should be: {1: 1, 2: 4, 3: 9, 4: 16, 5: 25, 6: 36, 7: 49, 8: 64} #Hints: In case of input data being supplied to the question, it should be assumed to be a console input. Consider using dict()\n",
    "\n",
    "num = int(input('Enter a number : '))\n",
    "dict1 = {i: i * i for i in range(1, num + 1)}\n",
    "print(dict1)"
   ]
  },
  {
   "cell_type": "code",
   "execution_count": 30,
   "id": "96903c82",
   "metadata": {},
   "outputs": [
    {
     "name": "stdout",
     "output_type": "stream",
     "text": [
      "Enter a sequence of comma-separated numbers : 52356\n",
      "['52356'] ('52356',)\n"
     ]
    }
   ],
   "source": [
    "# Q16. Write a program which accepts a sequence of comma-separated numbers from console and generate a list and a tuple which contains every number. Suppose the following input is supplied to the program: 34,67,55,33,12,98 Then, the output should be: ['34', '67', '55', '33', '12', '98'] ('34', '67', '55', '33', '12', '98')\n",
    "\n",
    "# Hints: In case of input data being supplied to the question, it should be assumed to be a console input. you may use tuple() method to convert list to tuple\n",
    "\n",
    "numbers = input('Enter a sequence of comma-separated numbers : ' )\n",
    "\n",
    "numbers_split = numbers.split(',')\n",
    "\n",
    "number_tuple = tuple(numbers_split)\n",
    "\n",
    "print(numbers_split , end = ' ')\n",
    "print(number_tuple)"
   ]
  },
  {
   "cell_type": "code",
   "execution_count": null,
   "id": "52c9cfbe",
   "metadata": {},
   "outputs": [],
   "source": [
    "# Q17. Write a program that accepts a comma separated sequence of words as input and prints the words in a comma-separated sequence after sorting them alphabetically.\n",
    "\n",
    "# Suppose the following input is supplied to the program: without,hello,bag,world Then, the output should be: bag,hello,without,world\n",
    "\n",
    "# Hints: In case of input data being supplied to the question, it should be assumed to be a console input.\n",
    "\n",
    "words = input('Enter a comma separated sequence of words : ')\n",
    "words_split = words.split(',')\n",
    "words_split.sort()\n",
    "print ((', ').join(words_split))"
   ]
  },
  {
   "cell_type": "code",
   "execution_count": 31,
   "id": "acc42c90",
   "metadata": {},
   "outputs": [
    {
     "name": "stdout",
     "output_type": "stream",
     "text": [
      "Enter a sequence of whitespace separated words : f g b f g \n",
      " b f g\n"
     ]
    }
   ],
   "source": [
    "# Q18. Write a program that accepts a sequence of whitespace separated words # as input and prints the words after removing all duplicate words and sorting them alphanumerically. # Suppose the following input is supplied to the program: hello world\n",
    "# and practice makes perfect and hello world again # Then, the output should be: again and hello makes perfect practice world #Hints: In case of input data being supplied to the question, it should be assumed to be a console input. #We use set container\n",
    "# to remove duplicated data automatically and then use sorted() to sort the data.\n",
    "\n",
    "words = input('Enter a sequence of whitespace separated words : ')\n",
    "words1 = words.split(' ')\n",
    "words1 = set(words1)\n",
    "sorted_words = sorted(words1)\n",
    "print((' ').join(sorted_words))"
   ]
  },
  {
   "cell_type": "code",
   "execution_count": 32,
   "id": "61aa493b",
   "metadata": {},
   "outputs": [
    {
     "name": "stdout",
     "output_type": "stream",
     "text": [
      "Enter a sentence : shital is small\n",
      "UPPER CASE  0 LOWER CASE  13\n"
     ]
    }
   ],
   "source": [
    "# Q19. Write a program that accepts a sentence and calculate the number of upper case # letters and lower case letters. #Suppose the following input is supplied to the program: Hello world! #Then, the output should be: UPPER CASE 1 LOWER CASE 9\n",
    "# #Hints: In case of input data being supplied to the question, it should be assumed to be a console input.\n",
    "\n",
    "sentense = input('Enter a sentence : ')\n",
    "sentense = list(sentense)\n",
    "\n",
    "upper,lower = 0 , 0\n",
    "\n",
    "for i in sentense:\n",
    "    if i.isupper():\n",
    "        upper = upper + 1\n",
    "        \n",
    "    if i.islower():\n",
    "        lower = lower + 1\n",
    "    else:\n",
    "        pass\n",
    "        \n",
    "print('UPPER CASE ',upper,'LOWER CASE ',lower)"
   ]
  },
  {
   "cell_type": "code",
   "execution_count": 33,
   "id": "f8b7e676",
   "metadata": {},
   "outputs": [
    {
     "name": "stdout",
     "output_type": "stream",
     "text": [
      "Enter a string : shital\n",
      "latihs\n"
     ]
    }
   ],
   "source": [
    "# Q20. Write a program that takes a string and returns reversed string. i.e. if input is \"abcd123\" output should be \"321dcba\"\n",
    "\n",
    "str1 = input('Enter a string : ')\n",
    "str1 = str1[::-1]\n",
    "print(str1)"
   ]
  }
 ],
 "metadata": {
  "kernelspec": {
   "display_name": "Python 3 (ipykernel)",
   "language": "python",
   "name": "python3"
  },
  "language_info": {
   "codemirror_mode": {
    "name": "ipython",
    "version": 3
   },
   "file_extension": ".py",
   "mimetype": "text/x-python",
   "name": "python",
   "nbconvert_exporter": "python",
   "pygments_lexer": "ipython3",
   "version": "3.11.4"
  }
 },
 "nbformat": 4,
 "nbformat_minor": 5
}
